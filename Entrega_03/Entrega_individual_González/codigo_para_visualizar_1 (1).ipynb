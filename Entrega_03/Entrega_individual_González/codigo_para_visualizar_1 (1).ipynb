{
  "cells": [
    {
      "cell_type": "code",
      "metadata": {
        "colab": {
          "base_uri": "https://localhost:8080/"
        },
        "id": "bY93cVvLdoeq",
        "outputId": "c77e8403-5113-40d5-bd00-017301f9bfeb"
      },
      "execution_count": 23,
      "outputs": [
        {
          "output_type": "stream",
          "name": "stdout",
          "text": [
            "W: Skipping acquire of configured file 'main/source/Sources' as repository 'https://r2u.stat.illinois.edu/ubuntu jammy InRelease' does not seem to provide it (sources.list entry misspelt?)\n",
            "✅ Dependencias listas.\n"
          ]
        }
      ],
      "source": [
        "# 1. Dependencias e imports\n",
        "!pip -q install altair pillow selenium altair_saver\n",
        "!apt-get -qq update\n",
        "!apt-get -qq install -y chromium-chromedriver\n",
        "\n",
        "import os, pandas as pd, numpy as np\n",
        "import altair as alt\n",
        "from datetime import datetime\n",
        "from pathlib import Path\n",
        "from PIL import Image\n",
        "\n",
        "# Configurar Chrome headless para exportar imágenes si usamos selenium\n",
        "os.environ[\"CHROMIUM_FLAGS\"] = \"--headless\"\n",
        "os.environ[\"ALT_AIRCHROME_PATH\"] = \"/usr/bin/chromium-browser\"\n",
        "os.environ[\"WEBDRIVER_PATH\"] = \"/usr/bin/chromedriver\"\n",
        "\n",
        "print(\"✅ Dependencias listas.\")\n"
      ],
      "id": "bY93cVvLdoeq"
    },
    {
      "cell_type": "code",
      "metadata": {
        "colab": {
          "base_uri": "https://localhost:8080/"
        },
        "id": "yQ9FVidrdoer",
        "outputId": "22159254-ba9a-4c51-a7c7-65df2c6327f9"
      },
      "execution_count": 24,
      "outputs": [
        {
          "output_type": "stream",
          "name": "stdout",
          "text": [
            "✅ Utilidades cargadas.\n"
          ]
        }
      ],
      "source": [
        "# 2. Utilidades\n",
        "def normaliza_hoja(nombre: str) -> str:\n",
        "    return nombre.strip().lower().replace(\"á\",\"a\").replace(\"é\",\"e\").replace(\"í\",\"i\").replace(\"ó\",\"o\").replace(\"ú\",\"u\")\n",
        "\n",
        "def long_from_excel(xlsx_path: Path, posibles_hojas=(\"Pistacho\",\"Nuez\",\"Almendra\")) -> pd.DataFrame:\n",
        "    xls = pd.ExcelFile(xlsx_path)\n",
        "    mapping = {}\n",
        "    for hoja in xls.sheet_names:\n",
        "        norm = normaliza_hoja(hoja)\n",
        "        mapping[norm] = hoja\n",
        "    frames = []\n",
        "    for etiqueta in posibles_hojas:\n",
        "        key = normaliza_hoja(etiqueta)\n",
        "        # Buscar coincidencia flexible\n",
        "        coincidente = None\n",
        "        for k,v in mapping.items():\n",
        "            if key in k or k in key:\n",
        "                coincidente = v\n",
        "                break\n",
        "        if coincidente is None:\n",
        "            raise ValueError(f\"No se encontró la hoja para '{etiqueta}'. Hojas disponibles: {xls.sheet_names}\")\n",
        "        df = pd.read_excel(xls, sheet_name=coincidente)\n",
        "        # Detectar columnas: Google Trends suele exportar Fecha + Valor en primeras 2 columnas\n",
        "        df = df.dropna(how='all')\n",
        "        # Buscar primera columna datetime/fecha\n",
        "        df.columns = [str(c) for c in df.columns]\n",
        "        # Tomar primeras dos columnas\n",
        "        df2 = df.iloc[:, :2].copy()\n",
        "        df2.columns = [\"Fecha\", \"Valor\"]\n",
        "        df2[\"Fecha\"] = pd.to_datetime(df2[\"Fecha\"], errors=\"coerce\")\n",
        "        df2 = df2.dropna(subset=[\"Fecha\"])  # quitar encabezados extra\n",
        "        # A veces Valor viene con texto tipo '<1'; lo convertimos seguro\n",
        "        df2[\"Valor\"] = pd.to_numeric(df2[\"Valor\"].astype(str).str.replace(\"<\", \"\", regex=False), errors=\"coerce\")\n",
        "        df2 = df2.dropna(subset=[\"Valor\"])  # quitar vacíos\n",
        "        df2[\"Producto\"] = etiqueta.capitalize()\n",
        "        frames.append(df2)\n",
        "    base = pd.concat(frames, ignore_index=True)\n",
        "    base[\"Año\"] = base[\"Fecha\"].dt.year\n",
        "    base[\"Mes\"] = base[\"Fecha\"].dt.month\n",
        "    # Agregación mensual (promedio de las semanas)\n",
        "    base[\"AñoMes\"] = base[\"Fecha\"].dt.to_period('M')\n",
        "    base_m = (base.groupby([\"Producto\",\"AñoMes\"], as_index=False)\n",
        "                   [\"Valor\"].mean().round(0))\n",
        "    base_m[\"Año\"] = base_m[\"AñoMes\"].dt.year\n",
        "    base_m[\"Mes\"] = base_m[\"AñoMes\"].dt.month\n",
        "    base_m[\"Fecha\"] = pd.to_datetime(base_m[\"Año\"].astype(str) + '-' + base_m[\"Mes\"].astype(str) + '-15')\n",
        "    base_m = base_m[[\"Producto\",\"Año\",\"Mes\",\"Valor\",\"Fecha\"]]\n",
        "    return base_m.sort_values([\"Producto\",\"Fecha\"]).reset_index(drop=True)\n",
        "\n",
        "def valida_extremos(df: pd.DataFrame):\n",
        "    tiene_0 = (df['Valor'] == 0).any()\n",
        "    tiene_100 = (df['Valor'] == 100).any()\n",
        "    print(f\"¿Existe 0?: {tiene_0} | ¿Existe 100?: {tiene_100}\")\n",
        "    return tiene_0, tiene_100\n",
        "\n",
        "print(\"✅ Utilidades cargadas.\")\n"
      ],
      "id": "yQ9FVidrdoer"
    },
    {
      "cell_type": "code",
      "metadata": {
        "colab": {
          "base_uri": "https://localhost:8080/"
        },
        "id": "EY39tw6idoer",
        "outputId": "0d00dea2-0490-43aa-9568-7c401e392239"
      },
      "execution_count": 25,
      "outputs": [
        {
          "output_type": "stream",
          "name": "stdout",
          "text": [
            "🔹 Cargando CSV limpio existente...\n",
            "          Producto   Año  Mes  Valor      Fecha\n",
            "0  chocolate dubai  2020    9    0.0 2020-09-15\n",
            "1  chocolate dubai  2020   10    0.0 2020-10-15\n",
            "2  chocolate dubai  2020   11    0.0 2020-11-15\n",
            "3  chocolate dubai  2020   12    0.0 2020-12-15\n",
            "4  chocolate dubai  2021    1    0.0 2021-01-15\n",
            "Producto            object\n",
            "Año                  int64\n",
            "Mes                  int64\n",
            "Valor              float64\n",
            "Fecha       datetime64[ns]\n",
            "dtype: object\n"
          ]
        }
      ],
      "source": [
        "# 3. Carga de datos (elige una opción)\n",
        "from pathlib import Path\n",
        "root = Path('.')\n",
        "\n",
        "# csv_path = Path('../base_frutossecos_2018_2025.csv')  # opción A: CSV ya limpio\n",
        "# xlsx_path = Path('../Base de datos inicial.xlsx')     # opción B: Excel multitimeline\n",
        "csv_path = Path('/content/base_antigua.csv') # Use the available CSV file\n",
        "\n",
        "if csv_path.exists():\n",
        "    print(\"🔹 Cargando CSV limpio existente...\")\n",
        "    df = pd.read_csv(csv_path, skiprows=1) # Skip the first row\n",
        "    # Handle the specific structure of base_antigua.csv\n",
        "    df = df.reset_index()\n",
        "    df = df.melt(id_vars=['Semana'], var_name='Producto', value_name='Valor')\n",
        "    df = df.rename(columns={'Semana': 'Fecha'})\n",
        "    df['Fecha'] = pd.to_datetime(df['Fecha'], errors='coerce')\n",
        "    df = df.dropna(subset=['Fecha']) # Drop rows where date conversion failed\n",
        "\n",
        "    # Extract Year and Month after converting to datetime\n",
        "    df['Año'] = df['Fecha'].dt.year\n",
        "    df['Mes'] = df['Fecha'].dt.month\n",
        "\n",
        "    # Clean up 'Producto' column names\n",
        "    df['Producto'] = df['Producto'].str.split(':').str[0].str.strip()\n",
        "    # Filter out rows where Producto is 'index'\n",
        "    df = df[df['Producto'] != 'index'].copy()\n",
        "\n",
        "    # Aggregate to monthly level\n",
        "    df[\"AñoMes\"] = df[\"Fecha\"].dt.to_period('M')\n",
        "    df = (df.groupby([\"Producto\",\"AñoMes\"], as_index=False)\n",
        "                   [\"Valor\"].mean().round(0))\n",
        "    df[\"Año\"] = df[\"AñoMes\"].dt.year\n",
        "    df[\"Mes\"] = df[\"AñoMes\"].dt.month\n",
        "    df[\"Fecha\"] = pd.to_datetime(df[\"Año\"].astype(str) + '-' + df[\"Mes\"].astype(str) + '-15')\n",
        "    df = df[[\"Producto\",\"Año\",\"Mes\",\"Valor\",\"Fecha\"]]\n",
        "    df = df.sort_values([\"Producto\",\"Fecha\"]).reset_index(drop=True)\n",
        "\n",
        "\n",
        "# elif xlsx_path.exists():\n",
        "#     print(\"🔹 Convirtiendo Excel multitimeline a formato largo...\")\n",
        "#     df = long_from_excel(xlsx_path)\n",
        "#     # Guardar CSV limpio para futuras ejecuciones\n",
        "#     out_csv = Path('../base_frutossecos_2018_2025.csv')\n",
        "#     df.to_csv(out_csv, index=False)\n",
        "#     print(f\"✅ CSV guardado en: {out_csv}\")\n",
        "else:\n",
        "    raise FileNotFoundError(f\"No se encontró el archivo en: {csv_path}. Asegúrate de que el archivo está presente.\")\n",
        "\n",
        "print(df.head())\n",
        "print(df.dtypes)"
      ],
      "id": "EY39tw6idoer"
    },
    {
      "cell_type": "code",
      "metadata": {
        "colab": {
          "base_uri": "https://localhost:8080/"
        },
        "id": "pQPHl4Pkdoes",
        "outputId": "12883e5e-339e-4e8c-8205-27020baf254f"
      },
      "execution_count": 26,
      "outputs": [
        {
          "output_type": "stream",
          "name": "stdout",
          "text": [
            "Filas totales: 183\n",
            "Duplicados (Producto, Año, Mes): 0\n",
            "¿Existe 0?: True | ¿Existe 100?: False\n",
            "✅ Validaciones OK\n"
          ]
        }
      ],
      "source": [
        "# 4. Validaciones rápidas\n",
        "print(f\"Filas totales: {len(df):,}\")\n",
        "dups = df.duplicated(subset=[\"Producto\",\"Año\",\"Mes\"]).sum()\n",
        "print(f\"Duplicados (Producto, Año, Mes): {dups}\")\n",
        "t0, t100 = valida_extremos(df)\n",
        "\n",
        "assert df['Valor'].between(0,100).all(), \"Hay valores fuera de 0–100, revisa la base.\"\n",
        "assert dups == 0, \"Hay duplicados por mes y producto; revisa la agregación.\"\n",
        "print(\"✅ Validaciones OK\")\n"
      ],
      "id": "pQPHl4Pkdoes"
    },
    {
      "cell_type": "code",
      "metadata": {
        "colab": {
          "base_uri": "https://localhost:8080/",
          "height": 505
        },
        "id": "D_NV9RfZdoes",
        "outputId": "dab94915-8def-4d64-9a9a-6d61237ca5a2"
      },
      "execution_count": 27,
      "outputs": [
        {
          "output_type": "execute_result",
          "data": {
            "text/html": [
              "\n",
              "<style>\n",
              "  #altair-viz-6201345d489b43fc9834663924c5fd69.vega-embed {\n",
              "    width: 100%;\n",
              "    display: flex;\n",
              "  }\n",
              "\n",
              "  #altair-viz-6201345d489b43fc9834663924c5fd69.vega-embed details,\n",
              "  #altair-viz-6201345d489b43fc9834663924c5fd69.vega-embed details summary {\n",
              "    position: relative;\n",
              "  }\n",
              "</style>\n",
              "<div id=\"altair-viz-6201345d489b43fc9834663924c5fd69\"></div>\n",
              "<script type=\"text/javascript\">\n",
              "  var VEGA_DEBUG = (typeof VEGA_DEBUG == \"undefined\") ? {} : VEGA_DEBUG;\n",
              "  (function(spec, embedOpt){\n",
              "    let outputDiv = document.currentScript.previousElementSibling;\n",
              "    if (outputDiv.id !== \"altair-viz-6201345d489b43fc9834663924c5fd69\") {\n",
              "      outputDiv = document.getElementById(\"altair-viz-6201345d489b43fc9834663924c5fd69\");\n",
              "    }\n",
              "\n",
              "    const paths = {\n",
              "      \"vega\": \"https://cdn.jsdelivr.net/npm/vega@5?noext\",\n",
              "      \"vega-lib\": \"https://cdn.jsdelivr.net/npm/vega-lib?noext\",\n",
              "      \"vega-lite\": \"https://cdn.jsdelivr.net/npm/vega-lite@5.20.1?noext\",\n",
              "      \"vega-embed\": \"https://cdn.jsdelivr.net/npm/vega-embed@6?noext\",\n",
              "    };\n",
              "\n",
              "    function maybeLoadScript(lib, version) {\n",
              "      var key = `${lib.replace(\"-\", \"\")}_version`;\n",
              "      return (VEGA_DEBUG[key] == version) ?\n",
              "        Promise.resolve(paths[lib]) :\n",
              "        new Promise(function(resolve, reject) {\n",
              "          var s = document.createElement('script');\n",
              "          document.getElementsByTagName(\"head\")[0].appendChild(s);\n",
              "          s.async = true;\n",
              "          s.onload = () => {\n",
              "            VEGA_DEBUG[key] = version;\n",
              "            return resolve(paths[lib]);\n",
              "          };\n",
              "          s.onerror = () => reject(`Error loading script: ${paths[lib]}`);\n",
              "          s.src = paths[lib];\n",
              "        });\n",
              "    }\n",
              "\n",
              "    function showError(err) {\n",
              "      outputDiv.innerHTML = `<div class=\"error\" style=\"color:red;\">${err}</div>`;\n",
              "      throw err;\n",
              "    }\n",
              "\n",
              "    function displayChart(vegaEmbed) {\n",
              "      vegaEmbed(outputDiv, spec, embedOpt)\n",
              "        .catch(err => showError(`Javascript Error: ${err.message}<br>This usually means there's a typo in your chart specification. See the javascript console for the full traceback.`));\n",
              "    }\n",
              "\n",
              "    if(typeof define === \"function\" && define.amd) {\n",
              "      requirejs.config({paths});\n",
              "      let deps = [\"vega-embed\"];\n",
              "      require(deps, displayChart, err => showError(`Error loading script: ${err.message}`));\n",
              "    } else {\n",
              "      maybeLoadScript(\"vega\", \"5\")\n",
              "        .then(() => maybeLoadScript(\"vega-lite\", \"5.20.1\"))\n",
              "        .then(() => maybeLoadScript(\"vega-embed\", \"6\"))\n",
              "        .catch(showError)\n",
              "        .then(() => displayChart(vegaEmbed));\n",
              "    }\n",
              "  })({\"config\": {\"view\": {\"continuousWidth\": 300, \"continuousHeight\": 300}}, \"data\": {\"name\": \"data-e4880ea2c7f78dfce79e3c3ee0ab3e65\"}, \"mark\": {\"type\": \"line\", \"point\": true}, \"encoding\": {\"color\": {\"field\": \"Producto\", \"title\": \"Fruto seco\", \"type\": \"nominal\"}, \"tooltip\": [{\"field\": \"Producto\", \"type\": \"nominal\"}, {\"field\": \"A\\u00f1o\", \"type\": \"quantitative\"}, {\"field\": \"Mes\", \"type\": \"quantitative\"}, {\"field\": \"Valor\", \"type\": \"quantitative\"}], \"x\": {\"field\": \"Fecha\", \"title\": \"A\\u00f1o\", \"type\": \"temporal\"}, \"y\": {\"field\": \"Valor\", \"title\": \"Inter\\u00e9s relativo (0\\u2013100)\", \"type\": \"quantitative\"}}, \"height\": 400, \"title\": \"Inter\\u00e9s por frutos secos en Chile (2018\\u20132025)\", \"width\": 800, \"$schema\": \"https://vega.github.io/schema/vega-lite/v5.20.1.json\", \"datasets\": {\"data-e4880ea2c7f78dfce79e3c3ee0ab3e65\": [{\"Producto\": \"chocolate dubai\", \"A\\u00f1o\": 2020, \"Mes\": 9, \"Valor\": 0.0, \"Fecha\": \"2020-09-15T00:00:00\"}, {\"Producto\": \"chocolate dubai\", \"A\\u00f1o\": 2020, \"Mes\": 10, \"Valor\": 0.0, \"Fecha\": \"2020-10-15T00:00:00\"}, {\"Producto\": \"chocolate dubai\", \"A\\u00f1o\": 2020, \"Mes\": 11, \"Valor\": 0.0, \"Fecha\": \"2020-11-15T00:00:00\"}, {\"Producto\": \"chocolate dubai\", \"A\\u00f1o\": 2020, \"Mes\": 12, \"Valor\": 0.0, \"Fecha\": \"2020-12-15T00:00:00\"}, {\"Producto\": \"chocolate dubai\", \"A\\u00f1o\": 2021, \"Mes\": 1, \"Valor\": 0.0, \"Fecha\": \"2021-01-15T00:00:00\"}, {\"Producto\": \"chocolate dubai\", \"A\\u00f1o\": 2021, \"Mes\": 2, \"Valor\": 0.0, \"Fecha\": \"2021-02-15T00:00:00\"}, {\"Producto\": \"chocolate dubai\", \"A\\u00f1o\": 2021, \"Mes\": 3, \"Valor\": 0.0, \"Fecha\": \"2021-03-15T00:00:00\"}, {\"Producto\": \"chocolate dubai\", \"A\\u00f1o\": 2021, \"Mes\": 4, \"Valor\": 0.0, \"Fecha\": \"2021-04-15T00:00:00\"}, {\"Producto\": \"chocolate dubai\", \"A\\u00f1o\": 2021, \"Mes\": 5, \"Valor\": 0.0, \"Fecha\": \"2021-05-15T00:00:00\"}, {\"Producto\": \"chocolate dubai\", \"A\\u00f1o\": 2021, \"Mes\": 6, \"Valor\": 0.0, \"Fecha\": \"2021-06-15T00:00:00\"}, {\"Producto\": \"chocolate dubai\", \"A\\u00f1o\": 2021, \"Mes\": 7, \"Valor\": 0.0, \"Fecha\": \"2021-07-15T00:00:00\"}, {\"Producto\": \"chocolate dubai\", \"A\\u00f1o\": 2021, \"Mes\": 8, \"Valor\": 0.0, \"Fecha\": \"2021-08-15T00:00:00\"}, {\"Producto\": \"chocolate dubai\", \"A\\u00f1o\": 2021, \"Mes\": 9, \"Valor\": 0.0, \"Fecha\": \"2021-09-15T00:00:00\"}, {\"Producto\": \"chocolate dubai\", \"A\\u00f1o\": 2021, \"Mes\": 10, \"Valor\": 0.0, \"Fecha\": \"2021-10-15T00:00:00\"}, {\"Producto\": \"chocolate dubai\", \"A\\u00f1o\": 2021, \"Mes\": 11, \"Valor\": 1.0, \"Fecha\": \"2021-11-15T00:00:00\"}, {\"Producto\": \"chocolate dubai\", \"A\\u00f1o\": 2021, \"Mes\": 12, \"Valor\": 0.0, \"Fecha\": \"2021-12-15T00:00:00\"}, {\"Producto\": \"chocolate dubai\", \"A\\u00f1o\": 2022, \"Mes\": 1, \"Valor\": 0.0, \"Fecha\": \"2022-01-15T00:00:00\"}, {\"Producto\": \"chocolate dubai\", \"A\\u00f1o\": 2022, \"Mes\": 2, \"Valor\": 0.0, \"Fecha\": \"2022-02-15T00:00:00\"}, {\"Producto\": \"chocolate dubai\", \"A\\u00f1o\": 2022, \"Mes\": 3, \"Valor\": 0.0, \"Fecha\": \"2022-03-15T00:00:00\"}, {\"Producto\": \"chocolate dubai\", \"A\\u00f1o\": 2022, \"Mes\": 4, \"Valor\": 0.0, \"Fecha\": \"2022-04-15T00:00:00\"}, {\"Producto\": \"chocolate dubai\", \"A\\u00f1o\": 2022, \"Mes\": 5, \"Valor\": 0.0, \"Fecha\": \"2022-05-15T00:00:00\"}, {\"Producto\": \"chocolate dubai\", \"A\\u00f1o\": 2022, \"Mes\": 6, \"Valor\": 0.0, \"Fecha\": \"2022-06-15T00:00:00\"}, {\"Producto\": \"chocolate dubai\", \"A\\u00f1o\": 2022, \"Mes\": 7, \"Valor\": 0.0, \"Fecha\": \"2022-07-15T00:00:00\"}, {\"Producto\": \"chocolate dubai\", \"A\\u00f1o\": 2022, \"Mes\": 8, \"Valor\": 0.0, \"Fecha\": \"2022-08-15T00:00:00\"}, {\"Producto\": \"chocolate dubai\", \"A\\u00f1o\": 2022, \"Mes\": 9, \"Valor\": 0.0, \"Fecha\": \"2022-09-15T00:00:00\"}, {\"Producto\": \"chocolate dubai\", \"A\\u00f1o\": 2022, \"Mes\": 10, \"Valor\": 0.0, \"Fecha\": \"2022-10-15T00:00:00\"}, {\"Producto\": \"chocolate dubai\", \"A\\u00f1o\": 2022, \"Mes\": 11, \"Valor\": 0.0, \"Fecha\": \"2022-11-15T00:00:00\"}, {\"Producto\": \"chocolate dubai\", \"A\\u00f1o\": 2022, \"Mes\": 12, \"Valor\": 0.0, \"Fecha\": \"2022-12-15T00:00:00\"}, {\"Producto\": \"chocolate dubai\", \"A\\u00f1o\": 2023, \"Mes\": 1, \"Valor\": 0.0, \"Fecha\": \"2023-01-15T00:00:00\"}, {\"Producto\": \"chocolate dubai\", \"A\\u00f1o\": 2023, \"Mes\": 2, \"Valor\": 0.0, \"Fecha\": \"2023-02-15T00:00:00\"}, {\"Producto\": \"chocolate dubai\", \"A\\u00f1o\": 2023, \"Mes\": 3, \"Valor\": 0.0, \"Fecha\": \"2023-03-15T00:00:00\"}, {\"Producto\": \"chocolate dubai\", \"A\\u00f1o\": 2023, \"Mes\": 4, \"Valor\": 0.0, \"Fecha\": \"2023-04-15T00:00:00\"}, {\"Producto\": \"chocolate dubai\", \"A\\u00f1o\": 2023, \"Mes\": 5, \"Valor\": 0.0, \"Fecha\": \"2023-05-15T00:00:00\"}, {\"Producto\": \"chocolate dubai\", \"A\\u00f1o\": 2023, \"Mes\": 6, \"Valor\": 0.0, \"Fecha\": \"2023-06-15T00:00:00\"}, {\"Producto\": \"chocolate dubai\", \"A\\u00f1o\": 2023, \"Mes\": 7, \"Valor\": 0.0, \"Fecha\": \"2023-07-15T00:00:00\"}, {\"Producto\": \"chocolate dubai\", \"A\\u00f1o\": 2023, \"Mes\": 8, \"Valor\": 0.0, \"Fecha\": \"2023-08-15T00:00:00\"}, {\"Producto\": \"chocolate dubai\", \"A\\u00f1o\": 2023, \"Mes\": 9, \"Valor\": 0.0, \"Fecha\": \"2023-09-15T00:00:00\"}, {\"Producto\": \"chocolate dubai\", \"A\\u00f1o\": 2023, \"Mes\": 10, \"Valor\": 0.0, \"Fecha\": \"2023-10-15T00:00:00\"}, {\"Producto\": \"chocolate dubai\", \"A\\u00f1o\": 2023, \"Mes\": 11, \"Valor\": 0.0, \"Fecha\": \"2023-11-15T00:00:00\"}, {\"Producto\": \"chocolate dubai\", \"A\\u00f1o\": 2023, \"Mes\": 12, \"Valor\": 0.0, \"Fecha\": \"2023-12-15T00:00:00\"}, {\"Producto\": \"chocolate dubai\", \"A\\u00f1o\": 2024, \"Mes\": 1, \"Valor\": 0.0, \"Fecha\": \"2024-01-15T00:00:00\"}, {\"Producto\": \"chocolate dubai\", \"A\\u00f1o\": 2024, \"Mes\": 2, \"Valor\": 0.0, \"Fecha\": \"2024-02-15T00:00:00\"}, {\"Producto\": \"chocolate dubai\", \"A\\u00f1o\": 2024, \"Mes\": 3, \"Valor\": 0.0, \"Fecha\": \"2024-03-15T00:00:00\"}, {\"Producto\": \"chocolate dubai\", \"A\\u00f1o\": 2024, \"Mes\": 4, \"Valor\": 0.0, \"Fecha\": \"2024-04-15T00:00:00\"}, {\"Producto\": \"chocolate dubai\", \"A\\u00f1o\": 2024, \"Mes\": 5, \"Valor\": 0.0, \"Fecha\": \"2024-05-15T00:00:00\"}, {\"Producto\": \"chocolate dubai\", \"A\\u00f1o\": 2024, \"Mes\": 6, \"Valor\": 0.0, \"Fecha\": \"2024-06-15T00:00:00\"}, {\"Producto\": \"chocolate dubai\", \"A\\u00f1o\": 2024, \"Mes\": 7, \"Valor\": 0.0, \"Fecha\": \"2024-07-15T00:00:00\"}, {\"Producto\": \"chocolate dubai\", \"A\\u00f1o\": 2024, \"Mes\": 8, \"Valor\": 0.0, \"Fecha\": \"2024-08-15T00:00:00\"}, {\"Producto\": \"chocolate dubai\", \"A\\u00f1o\": 2024, \"Mes\": 9, \"Valor\": 0.0, \"Fecha\": \"2024-09-15T00:00:00\"}, {\"Producto\": \"chocolate dubai\", \"A\\u00f1o\": 2024, \"Mes\": 10, \"Valor\": 0.0, \"Fecha\": \"2024-10-15T00:00:00\"}, {\"Producto\": \"chocolate dubai\", \"A\\u00f1o\": 2024, \"Mes\": 11, \"Valor\": 0.0, \"Fecha\": \"2024-11-15T00:00:00\"}, {\"Producto\": \"chocolate dubai\", \"A\\u00f1o\": 2024, \"Mes\": 12, \"Valor\": 1.0, \"Fecha\": \"2024-12-15T00:00:00\"}, {\"Producto\": \"chocolate dubai\", \"A\\u00f1o\": 2025, \"Mes\": 1, \"Valor\": 4.0, \"Fecha\": \"2025-01-15T00:00:00\"}, {\"Producto\": \"chocolate dubai\", \"A\\u00f1o\": 2025, \"Mes\": 2, \"Valor\": 22.0, \"Fecha\": \"2025-02-15T00:00:00\"}, {\"Producto\": \"chocolate dubai\", \"A\\u00f1o\": 2025, \"Mes\": 3, \"Valor\": 28.0, \"Fecha\": \"2025-03-15T00:00:00\"}, {\"Producto\": \"chocolate dubai\", \"A\\u00f1o\": 2025, \"Mes\": 4, \"Valor\": 38.0, \"Fecha\": \"2025-04-15T00:00:00\"}, {\"Producto\": \"chocolate dubai\", \"A\\u00f1o\": 2025, \"Mes\": 5, \"Valor\": 35.0, \"Fecha\": \"2025-05-15T00:00:00\"}, {\"Producto\": \"chocolate dubai\", \"A\\u00f1o\": 2025, \"Mes\": 6, \"Valor\": 65.0, \"Fecha\": \"2025-06-15T00:00:00\"}, {\"Producto\": \"chocolate dubai\", \"A\\u00f1o\": 2025, \"Mes\": 7, \"Valor\": 81.0, \"Fecha\": \"2025-07-15T00:00:00\"}, {\"Producto\": \"chocolate dubai\", \"A\\u00f1o\": 2025, \"Mes\": 8, \"Valor\": 47.0, \"Fecha\": \"2025-08-15T00:00:00\"}, {\"Producto\": \"chocolate dubai\", \"A\\u00f1o\": 2025, \"Mes\": 9, \"Valor\": 31.0, \"Fecha\": \"2025-09-15T00:00:00\"}, {\"Producto\": \"nueces\", \"A\\u00f1o\": 2020, \"Mes\": 9, \"Valor\": 26.0, \"Fecha\": \"2020-09-15T00:00:00\"}, {\"Producto\": \"nueces\", \"A\\u00f1o\": 2020, \"Mes\": 10, \"Valor\": 29.0, \"Fecha\": \"2020-10-15T00:00:00\"}, {\"Producto\": \"nueces\", \"A\\u00f1o\": 2020, \"Mes\": 11, \"Valor\": 25.0, \"Fecha\": \"2020-11-15T00:00:00\"}, {\"Producto\": \"nueces\", \"A\\u00f1o\": 2020, \"Mes\": 12, \"Valor\": 32.0, \"Fecha\": \"2020-12-15T00:00:00\"}, {\"Producto\": \"nueces\", \"A\\u00f1o\": 2021, \"Mes\": 1, \"Valor\": 21.0, \"Fecha\": \"2021-01-15T00:00:00\"}, {\"Producto\": \"nueces\", \"A\\u00f1o\": 2021, \"Mes\": 2, \"Valor\": 20.0, \"Fecha\": \"2021-02-15T00:00:00\"}, {\"Producto\": \"nueces\", \"A\\u00f1o\": 2021, \"Mes\": 3, \"Valor\": 26.0, \"Fecha\": \"2021-03-15T00:00:00\"}, {\"Producto\": \"nueces\", \"A\\u00f1o\": 2021, \"Mes\": 4, \"Valor\": 30.0, \"Fecha\": \"2021-04-15T00:00:00\"}, {\"Producto\": \"nueces\", \"A\\u00f1o\": 2021, \"Mes\": 5, \"Valor\": 25.0, \"Fecha\": \"2021-05-15T00:00:00\"}, {\"Producto\": \"nueces\", \"A\\u00f1o\": 2021, \"Mes\": 6, \"Valor\": 25.0, \"Fecha\": \"2021-06-15T00:00:00\"}, {\"Producto\": \"nueces\", \"A\\u00f1o\": 2021, \"Mes\": 7, \"Valor\": 24.0, \"Fecha\": \"2021-07-15T00:00:00\"}, {\"Producto\": \"nueces\", \"A\\u00f1o\": 2021, \"Mes\": 8, \"Valor\": 23.0, \"Fecha\": \"2021-08-15T00:00:00\"}, {\"Producto\": \"nueces\", \"A\\u00f1o\": 2021, \"Mes\": 9, \"Valor\": 21.0, \"Fecha\": \"2021-09-15T00:00:00\"}, {\"Producto\": \"nueces\", \"A\\u00f1o\": 2021, \"Mes\": 10, \"Valor\": 20.0, \"Fecha\": \"2021-10-15T00:00:00\"}, {\"Producto\": \"nueces\", \"A\\u00f1o\": 2021, \"Mes\": 11, \"Valor\": 20.0, \"Fecha\": \"2021-11-15T00:00:00\"}, {\"Producto\": \"nueces\", \"A\\u00f1o\": 2021, \"Mes\": 12, \"Valor\": 27.0, \"Fecha\": \"2021-12-15T00:00:00\"}, {\"Producto\": \"nueces\", \"A\\u00f1o\": 2022, \"Mes\": 1, \"Valor\": 17.0, \"Fecha\": \"2022-01-15T00:00:00\"}, {\"Producto\": \"nueces\", \"A\\u00f1o\": 2022, \"Mes\": 2, \"Valor\": 18.0, \"Fecha\": \"2022-02-15T00:00:00\"}, {\"Producto\": \"nueces\", \"A\\u00f1o\": 2022, \"Mes\": 3, \"Valor\": 18.0, \"Fecha\": \"2022-03-15T00:00:00\"}, {\"Producto\": \"nueces\", \"A\\u00f1o\": 2022, \"Mes\": 4, \"Valor\": 24.0, \"Fecha\": \"2022-04-15T00:00:00\"}, {\"Producto\": \"nueces\", \"A\\u00f1o\": 2022, \"Mes\": 5, \"Valor\": 24.0, \"Fecha\": \"2022-05-15T00:00:00\"}, {\"Producto\": \"nueces\", \"A\\u00f1o\": 2022, \"Mes\": 6, \"Valor\": 23.0, \"Fecha\": \"2022-06-15T00:00:00\"}, {\"Producto\": \"nueces\", \"A\\u00f1o\": 2022, \"Mes\": 7, \"Valor\": 23.0, \"Fecha\": \"2022-07-15T00:00:00\"}, {\"Producto\": \"nueces\", \"A\\u00f1o\": 2022, \"Mes\": 8, \"Valor\": 22.0, \"Fecha\": \"2022-08-15T00:00:00\"}, {\"Producto\": \"nueces\", \"A\\u00f1o\": 2022, \"Mes\": 9, \"Valor\": 20.0, \"Fecha\": \"2022-09-15T00:00:00\"}, {\"Producto\": \"nueces\", \"A\\u00f1o\": 2022, \"Mes\": 10, \"Valor\": 21.0, \"Fecha\": \"2022-10-15T00:00:00\"}, {\"Producto\": \"nueces\", \"A\\u00f1o\": 2022, \"Mes\": 11, \"Valor\": 19.0, \"Fecha\": \"2022-11-15T00:00:00\"}, {\"Producto\": \"nueces\", \"A\\u00f1o\": 2022, \"Mes\": 12, \"Valor\": 26.0, \"Fecha\": \"2022-12-15T00:00:00\"}, {\"Producto\": \"nueces\", \"A\\u00f1o\": 2023, \"Mes\": 1, \"Valor\": 18.0, \"Fecha\": \"2023-01-15T00:00:00\"}, {\"Producto\": \"nueces\", \"A\\u00f1o\": 2023, \"Mes\": 2, \"Valor\": 17.0, \"Fecha\": \"2023-02-15T00:00:00\"}, {\"Producto\": \"nueces\", \"A\\u00f1o\": 2023, \"Mes\": 3, \"Valor\": 20.0, \"Fecha\": \"2023-03-15T00:00:00\"}, {\"Producto\": \"nueces\", \"A\\u00f1o\": 2023, \"Mes\": 4, \"Valor\": 22.0, \"Fecha\": \"2023-04-15T00:00:00\"}, {\"Producto\": \"nueces\", \"A\\u00f1o\": 2023, \"Mes\": 5, \"Valor\": 25.0, \"Fecha\": \"2023-05-15T00:00:00\"}, {\"Producto\": \"nueces\", \"A\\u00f1o\": 2023, \"Mes\": 6, \"Valor\": 27.0, \"Fecha\": \"2023-06-15T00:00:00\"}, {\"Producto\": \"nueces\", \"A\\u00f1o\": 2023, \"Mes\": 7, \"Valor\": 23.0, \"Fecha\": \"2023-07-15T00:00:00\"}, {\"Producto\": \"nueces\", \"A\\u00f1o\": 2023, \"Mes\": 8, \"Valor\": 24.0, \"Fecha\": \"2023-08-15T00:00:00\"}, {\"Producto\": \"nueces\", \"A\\u00f1o\": 2023, \"Mes\": 9, \"Valor\": 20.0, \"Fecha\": \"2023-09-15T00:00:00\"}, {\"Producto\": \"nueces\", \"A\\u00f1o\": 2023, \"Mes\": 10, \"Valor\": 19.0, \"Fecha\": \"2023-10-15T00:00:00\"}, {\"Producto\": \"nueces\", \"A\\u00f1o\": 2023, \"Mes\": 11, \"Valor\": 22.0, \"Fecha\": \"2023-11-15T00:00:00\"}, {\"Producto\": \"nueces\", \"A\\u00f1o\": 2023, \"Mes\": 12, \"Valor\": 24.0, \"Fecha\": \"2023-12-15T00:00:00\"}, {\"Producto\": \"nueces\", \"A\\u00f1o\": 2024, \"Mes\": 1, \"Valor\": 16.0, \"Fecha\": \"2024-01-15T00:00:00\"}, {\"Producto\": \"nueces\", \"A\\u00f1o\": 2024, \"Mes\": 2, \"Valor\": 14.0, \"Fecha\": \"2024-02-15T00:00:00\"}, {\"Producto\": \"nueces\", \"A\\u00f1o\": 2024, \"Mes\": 3, \"Valor\": 14.0, \"Fecha\": \"2024-03-15T00:00:00\"}, {\"Producto\": \"nueces\", \"A\\u00f1o\": 2024, \"Mes\": 4, \"Valor\": 20.0, \"Fecha\": \"2024-04-15T00:00:00\"}, {\"Producto\": \"nueces\", \"A\\u00f1o\": 2024, \"Mes\": 5, \"Valor\": 19.0, \"Fecha\": \"2024-05-15T00:00:00\"}, {\"Producto\": \"nueces\", \"A\\u00f1o\": 2024, \"Mes\": 6, \"Valor\": 17.0, \"Fecha\": \"2024-06-15T00:00:00\"}, {\"Producto\": \"nueces\", \"A\\u00f1o\": 2024, \"Mes\": 7, \"Valor\": 20.0, \"Fecha\": \"2024-07-15T00:00:00\"}, {\"Producto\": \"nueces\", \"A\\u00f1o\": 2024, \"Mes\": 8, \"Valor\": 16.0, \"Fecha\": \"2024-08-15T00:00:00\"}, {\"Producto\": \"nueces\", \"A\\u00f1o\": 2024, \"Mes\": 9, \"Valor\": 15.0, \"Fecha\": \"2024-09-15T00:00:00\"}, {\"Producto\": \"nueces\", \"A\\u00f1o\": 2024, \"Mes\": 10, \"Valor\": 16.0, \"Fecha\": \"2024-10-15T00:00:00\"}, {\"Producto\": \"nueces\", \"A\\u00f1o\": 2024, \"Mes\": 11, \"Valor\": 18.0, \"Fecha\": \"2024-11-15T00:00:00\"}, {\"Producto\": \"nueces\", \"A\\u00f1o\": 2024, \"Mes\": 12, \"Valor\": 21.0, \"Fecha\": \"2024-12-15T00:00:00\"}, {\"Producto\": \"nueces\", \"A\\u00f1o\": 2025, \"Mes\": 1, \"Valor\": 13.0, \"Fecha\": \"2025-01-15T00:00:00\"}, {\"Producto\": \"nueces\", \"A\\u00f1o\": 2025, \"Mes\": 2, \"Valor\": 12.0, \"Fecha\": \"2025-02-15T00:00:00\"}, {\"Producto\": \"nueces\", \"A\\u00f1o\": 2025, \"Mes\": 3, \"Valor\": 15.0, \"Fecha\": \"2025-03-15T00:00:00\"}, {\"Producto\": \"nueces\", \"A\\u00f1o\": 2025, \"Mes\": 4, \"Valor\": 18.0, \"Fecha\": \"2025-04-15T00:00:00\"}, {\"Producto\": \"nueces\", \"A\\u00f1o\": 2025, \"Mes\": 5, \"Valor\": 18.0, \"Fecha\": \"2025-05-15T00:00:00\"}, {\"Producto\": \"nueces\", \"A\\u00f1o\": 2025, \"Mes\": 6, \"Valor\": 17.0, \"Fecha\": \"2025-06-15T00:00:00\"}, {\"Producto\": \"nueces\", \"A\\u00f1o\": 2025, \"Mes\": 7, \"Valor\": 20.0, \"Fecha\": \"2025-07-15T00:00:00\"}, {\"Producto\": \"nueces\", \"A\\u00f1o\": 2025, \"Mes\": 8, \"Valor\": 19.0, \"Fecha\": \"2025-08-15T00:00:00\"}, {\"Producto\": \"nueces\", \"A\\u00f1o\": 2025, \"Mes\": 9, \"Valor\": 15.0, \"Fecha\": \"2025-09-15T00:00:00\"}, {\"Producto\": \"pistachos\", \"A\\u00f1o\": 2020, \"Mes\": 9, \"Valor\": 0.0, \"Fecha\": \"2020-09-15T00:00:00\"}, {\"Producto\": \"pistachos\", \"A\\u00f1o\": 2020, \"Mes\": 10, \"Valor\": 4.0, \"Fecha\": \"2020-10-15T00:00:00\"}, {\"Producto\": \"pistachos\", \"A\\u00f1o\": 2020, \"Mes\": 11, \"Valor\": 3.0, \"Fecha\": \"2020-11-15T00:00:00\"}, {\"Producto\": \"pistachos\", \"A\\u00f1o\": 2020, \"Mes\": 12, \"Valor\": 4.0, \"Fecha\": \"2020-12-15T00:00:00\"}, {\"Producto\": \"pistachos\", \"A\\u00f1o\": 2021, \"Mes\": 1, \"Valor\": 3.0, \"Fecha\": \"2021-01-15T00:00:00\"}, {\"Producto\": \"pistachos\", \"A\\u00f1o\": 2021, \"Mes\": 2, \"Valor\": 2.0, \"Fecha\": \"2021-02-15T00:00:00\"}, {\"Producto\": \"pistachos\", \"A\\u00f1o\": 2021, \"Mes\": 3, \"Valor\": 0.0, \"Fecha\": \"2021-03-15T00:00:00\"}, {\"Producto\": \"pistachos\", \"A\\u00f1o\": 2021, \"Mes\": 4, \"Valor\": 4.0, \"Fecha\": \"2021-04-15T00:00:00\"}, {\"Producto\": \"pistachos\", \"A\\u00f1o\": 2021, \"Mes\": 5, \"Valor\": 5.0, \"Fecha\": \"2021-05-15T00:00:00\"}, {\"Producto\": \"pistachos\", \"A\\u00f1o\": 2021, \"Mes\": 6, \"Valor\": 6.0, \"Fecha\": \"2021-06-15T00:00:00\"}, {\"Producto\": \"pistachos\", \"A\\u00f1o\": 2021, \"Mes\": 7, \"Valor\": 4.0, \"Fecha\": \"2021-07-15T00:00:00\"}, {\"Producto\": \"pistachos\", \"A\\u00f1o\": 2021, \"Mes\": 8, \"Valor\": 6.0, \"Fecha\": \"2021-08-15T00:00:00\"}, {\"Producto\": \"pistachos\", \"A\\u00f1o\": 2021, \"Mes\": 9, \"Valor\": 5.0, \"Fecha\": \"2021-09-15T00:00:00\"}, {\"Producto\": \"pistachos\", \"A\\u00f1o\": 2021, \"Mes\": 10, \"Valor\": 3.0, \"Fecha\": \"2021-10-15T00:00:00\"}, {\"Producto\": \"pistachos\", \"A\\u00f1o\": 2021, \"Mes\": 11, \"Valor\": 2.0, \"Fecha\": \"2021-11-15T00:00:00\"}, {\"Producto\": \"pistachos\", \"A\\u00f1o\": 2021, \"Mes\": 12, \"Valor\": 2.0, \"Fecha\": \"2021-12-15T00:00:00\"}, {\"Producto\": \"pistachos\", \"A\\u00f1o\": 2022, \"Mes\": 1, \"Valor\": 1.0, \"Fecha\": \"2022-01-15T00:00:00\"}, {\"Producto\": \"pistachos\", \"A\\u00f1o\": 2022, \"Mes\": 2, \"Valor\": 2.0, \"Fecha\": \"2022-02-15T00:00:00\"}, {\"Producto\": \"pistachos\", \"A\\u00f1o\": 2022, \"Mes\": 3, \"Valor\": 3.0, \"Fecha\": \"2022-03-15T00:00:00\"}, {\"Producto\": \"pistachos\", \"A\\u00f1o\": 2022, \"Mes\": 4, \"Valor\": 5.0, \"Fecha\": \"2022-04-15T00:00:00\"}, {\"Producto\": \"pistachos\", \"A\\u00f1o\": 2022, \"Mes\": 5, \"Valor\": 4.0, \"Fecha\": \"2022-05-15T00:00:00\"}, {\"Producto\": \"pistachos\", \"A\\u00f1o\": 2022, \"Mes\": 6, \"Valor\": 4.0, \"Fecha\": \"2022-06-15T00:00:00\"}, {\"Producto\": \"pistachos\", \"A\\u00f1o\": 2022, \"Mes\": 7, \"Valor\": 2.0, \"Fecha\": \"2022-07-15T00:00:00\"}, {\"Producto\": \"pistachos\", \"A\\u00f1o\": 2022, \"Mes\": 8, \"Valor\": 4.0, \"Fecha\": \"2022-08-15T00:00:00\"}, {\"Producto\": \"pistachos\", \"A\\u00f1o\": 2022, \"Mes\": 9, \"Valor\": 3.0, \"Fecha\": \"2022-09-15T00:00:00\"}, {\"Producto\": \"pistachos\", \"A\\u00f1o\": 2022, \"Mes\": 10, \"Valor\": 5.0, \"Fecha\": \"2022-10-15T00:00:00\"}, {\"Producto\": \"pistachos\", \"A\\u00f1o\": 2022, \"Mes\": 11, \"Valor\": 5.0, \"Fecha\": \"2022-11-15T00:00:00\"}, {\"Producto\": \"pistachos\", \"A\\u00f1o\": 2022, \"Mes\": 12, \"Valor\": 5.0, \"Fecha\": \"2022-12-15T00:00:00\"}, {\"Producto\": \"pistachos\", \"A\\u00f1o\": 2023, \"Mes\": 1, \"Valor\": 4.0, \"Fecha\": \"2023-01-15T00:00:00\"}, {\"Producto\": \"pistachos\", \"A\\u00f1o\": 2023, \"Mes\": 2, \"Valor\": 2.0, \"Fecha\": \"2023-02-15T00:00:00\"}, {\"Producto\": \"pistachos\", \"A\\u00f1o\": 2023, \"Mes\": 3, \"Valor\": 6.0, \"Fecha\": \"2023-03-15T00:00:00\"}, {\"Producto\": \"pistachos\", \"A\\u00f1o\": 2023, \"Mes\": 4, \"Valor\": 5.0, \"Fecha\": \"2023-04-15T00:00:00\"}, {\"Producto\": \"pistachos\", \"A\\u00f1o\": 2023, \"Mes\": 5, \"Valor\": 4.0, \"Fecha\": \"2023-05-15T00:00:00\"}, {\"Producto\": \"pistachos\", \"A\\u00f1o\": 2023, \"Mes\": 6, \"Valor\": 6.0, \"Fecha\": \"2023-06-15T00:00:00\"}, {\"Producto\": \"pistachos\", \"A\\u00f1o\": 2023, \"Mes\": 7, \"Valor\": 4.0, \"Fecha\": \"2023-07-15T00:00:00\"}, {\"Producto\": \"pistachos\", \"A\\u00f1o\": 2023, \"Mes\": 8, \"Valor\": 5.0, \"Fecha\": \"2023-08-15T00:00:00\"}, {\"Producto\": \"pistachos\", \"A\\u00f1o\": 2023, \"Mes\": 9, \"Valor\": 5.0, \"Fecha\": \"2023-09-15T00:00:00\"}, {\"Producto\": \"pistachos\", \"A\\u00f1o\": 2023, \"Mes\": 10, \"Valor\": 5.0, \"Fecha\": \"2023-10-15T00:00:00\"}, {\"Producto\": \"pistachos\", \"A\\u00f1o\": 2023, \"Mes\": 11, \"Valor\": 2.0, \"Fecha\": \"2023-11-15T00:00:00\"}, {\"Producto\": \"pistachos\", \"A\\u00f1o\": 2023, \"Mes\": 12, \"Valor\": 5.0, \"Fecha\": \"2023-12-15T00:00:00\"}, {\"Producto\": \"pistachos\", \"A\\u00f1o\": 2024, \"Mes\": 1, \"Valor\": 4.0, \"Fecha\": \"2024-01-15T00:00:00\"}, {\"Producto\": \"pistachos\", \"A\\u00f1o\": 2024, \"Mes\": 2, \"Valor\": 3.0, \"Fecha\": \"2024-02-15T00:00:00\"}, {\"Producto\": \"pistachos\", \"A\\u00f1o\": 2024, \"Mes\": 3, \"Valor\": 5.0, \"Fecha\": \"2024-03-15T00:00:00\"}, {\"Producto\": \"pistachos\", \"A\\u00f1o\": 2024, \"Mes\": 4, \"Valor\": 3.0, \"Fecha\": \"2024-04-15T00:00:00\"}, {\"Producto\": \"pistachos\", \"A\\u00f1o\": 2024, \"Mes\": 5, \"Valor\": 6.0, \"Fecha\": \"2024-05-15T00:00:00\"}, {\"Producto\": \"pistachos\", \"A\\u00f1o\": 2024, \"Mes\": 6, \"Valor\": 7.0, \"Fecha\": \"2024-06-15T00:00:00\"}, {\"Producto\": \"pistachos\", \"A\\u00f1o\": 2024, \"Mes\": 7, \"Valor\": 7.0, \"Fecha\": \"2024-07-15T00:00:00\"}, {\"Producto\": \"pistachos\", \"A\\u00f1o\": 2024, \"Mes\": 8, \"Valor\": 7.0, \"Fecha\": \"2024-08-15T00:00:00\"}, {\"Producto\": \"pistachos\", \"A\\u00f1o\": 2024, \"Mes\": 9, \"Valor\": 6.0, \"Fecha\": \"2024-09-15T00:00:00\"}, {\"Producto\": \"pistachos\", \"A\\u00f1o\": 2024, \"Mes\": 10, \"Valor\": 5.0, \"Fecha\": \"2024-10-15T00:00:00\"}, {\"Producto\": \"pistachos\", \"A\\u00f1o\": 2024, \"Mes\": 11, \"Valor\": 4.0, \"Fecha\": \"2024-11-15T00:00:00\"}, {\"Producto\": \"pistachos\", \"A\\u00f1o\": 2024, \"Mes\": 12, \"Valor\": 3.0, \"Fecha\": \"2024-12-15T00:00:00\"}, {\"Producto\": \"pistachos\", \"A\\u00f1o\": 2025, \"Mes\": 1, \"Valor\": 4.0, \"Fecha\": \"2025-01-15T00:00:00\"}, {\"Producto\": \"pistachos\", \"A\\u00f1o\": 2025, \"Mes\": 2, \"Valor\": 6.0, \"Fecha\": \"2025-02-15T00:00:00\"}, {\"Producto\": \"pistachos\", \"A\\u00f1o\": 2025, \"Mes\": 3, \"Valor\": 10.0, \"Fecha\": \"2025-03-15T00:00:00\"}, {\"Producto\": \"pistachos\", \"A\\u00f1o\": 2025, \"Mes\": 4, \"Valor\": 6.0, \"Fecha\": \"2025-04-15T00:00:00\"}, {\"Producto\": \"pistachos\", \"A\\u00f1o\": 2025, \"Mes\": 5, \"Valor\": 6.0, \"Fecha\": \"2025-05-15T00:00:00\"}, {\"Producto\": \"pistachos\", \"A\\u00f1o\": 2025, \"Mes\": 6, \"Valor\": 9.0, \"Fecha\": \"2025-06-15T00:00:00\"}, {\"Producto\": \"pistachos\", \"A\\u00f1o\": 2025, \"Mes\": 7, \"Valor\": 7.0, \"Fecha\": \"2025-07-15T00:00:00\"}, {\"Producto\": \"pistachos\", \"A\\u00f1o\": 2025, \"Mes\": 8, \"Valor\": 8.0, \"Fecha\": \"2025-08-15T00:00:00\"}, {\"Producto\": \"pistachos\", \"A\\u00f1o\": 2025, \"Mes\": 9, \"Valor\": 5.0, \"Fecha\": \"2025-09-15T00:00:00\"}]}}, {\"mode\": \"vega-lite\"});\n",
              "</script>"
            ],
            "text/plain": [
              "alt.Chart(...)"
            ]
          },
          "metadata": {},
          "execution_count": 27
        }
      ],
      "source": [
        "# 5. Visualización con Altair\n",
        "alt.data_transformers.disable_max_rows()\n",
        "\n",
        "chart = (\n",
        "    alt.Chart(df)\n",
        "    .mark_line(point=True)\n",
        "    .encode(\n",
        "        x=alt.X('Fecha:T', title='Año'),\n",
        "        y=alt.Y('Valor:Q', title='Interés relativo (0–100)'),\n",
        "        color=alt.Color('Producto:N', title='Fruto seco'),\n",
        "        tooltip=['Producto','Año','Mes','Valor']\n",
        "    )\n",
        "    .properties(title='Interés por frutos secos en Chile (2018–2025)', width=800, height=400)\n",
        ")\n",
        "chart\n"
      ],
      "id": "D_NV9RfZdoes"
    },
    {
      "cell_type": "code",
      "metadata": {
        "colab": {
          "base_uri": "https://localhost:8080/"
        },
        "id": "GTEz1wmVdoes",
        "outputId": "a1446eef-9c11-46e6-fc56-cbafcd187263"
      },
      "execution_count": 22,
      "outputs": [
        {
          "output_type": "stream",
          "name": "stdout",
          "text": [
            "⚠️ altair_saver falló, usando Selenium como respaldo... No matches for version='5.20.1' among ['4.0.2', '4.8.1', '4.17.0'].\n",
            "Often this can be fixed by updating altair_viewer:\n",
            "    pip install -U altair_viewer\n",
            "✅ PNG exportado con Selenium\n",
            "✅ Exportados: vis_pistacho.html, vis_pistacho.jpg\n"
          ]
        },
        {
          "output_type": "execute_result",
          "data": {
            "text/plain": [
              "['vis_pistacho.html', 'vis_pistacho.jpg', 'vis_pistacho.png']"
            ]
          },
          "metadata": {},
          "execution_count": 22
        }
      ],
      "source": [
        "# 6. Exportación: HTML y JPG\n",
        "out_dir = Path('../visualizacion')\n",
        "out_dir.mkdir(parents=True, exist_ok=True)\n",
        "html_path = out_dir / 'vis_pistacho.html'\n",
        "png_path = out_dir / 'vis_pistacho.png'\n",
        "jpg_path = out_dir / 'vis_pistacho.jpg'\n",
        "\n",
        "# HTML (nativo)\n",
        "chart.save(str(html_path))\n",
        "\n",
        "# Imagen: intentar con altair_saver; si falla, captura con Selenium\n",
        "saved = False\n",
        "try:\n",
        "    from altair_saver import save as alt_save\n",
        "    alt_save(chart, str(png_path))\n",
        "    saved = True\n",
        "    print(\"✅ PNG exportado con altair_saver\")\n",
        "except Exception as e:\n",
        "    print(\"⚠️ altair_saver falló, usando Selenium como respaldo...\", e)\n",
        "    # Respaldo Selenium (captura del HTML)\n",
        "    from selenium import webdriver\n",
        "    from selenium.webdriver.chrome.options import Options\n",
        "    from time import sleep\n",
        "    chrome_options = Options()\n",
        "    chrome_options.add_argument(\"--headless\")\n",
        "    chrome_options.add_argument(\"--no-sandbox\")\n",
        "    chrome_options.add_argument(\"--disable-dev-shm-usage\")\n",
        "    chrome_options.add_argument(\"--window-size=1200,800\")\n",
        "    driver = webdriver.Chrome(options=chrome_options)\n",
        "    driver.get('file://' + str(html_path.resolve()))\n",
        "    sleep(2)\n",
        "    driver.save_screenshot(str(png_path))\n",
        "    driver.quit()\n",
        "    saved = True\n",
        "    print(\"✅ PNG exportado con Selenium\")\n",
        "\n",
        "if saved:\n",
        "    # Convertir a JPG\n",
        "    im = Image.open(png_path).convert('RGB')\n",
        "    im.save(jpg_path, 'JPEG', quality=95)\n",
        "    print(f\"✅ Exportados: {html_path.name}, {jpg_path.name}\")\n",
        "else:\n",
        "    print(\"❌ No fue posible exportar imagen. Revisa dependencias.\")\n",
        "\n",
        "sorted(os.listdir(out_dir))\n"
      ],
      "id": "GTEz1wmVdoes"
    }
  ],
  "metadata": {
    "kernelspec": {
      "display_name": "Python 3",
      "language": "python",
      "name": "python3"
    },
    "language_info": {
      "name": "python",
      "version": "3.x"
    },
    "colab": {
      "provenance": []
    }
  },
  "nbformat": 4,
  "nbformat_minor": 5
}