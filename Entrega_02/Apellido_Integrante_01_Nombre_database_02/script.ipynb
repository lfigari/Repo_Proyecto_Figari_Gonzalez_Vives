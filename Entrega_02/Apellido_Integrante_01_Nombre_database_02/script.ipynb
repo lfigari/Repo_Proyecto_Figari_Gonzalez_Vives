{
 "cells": [
  {
   "cell_type": "code",
   "execution_count": null,
   "id": "c88c0ca9",
   "metadata": {
    "vscode": {
     "languageId": "plaintext"
    }
   },
   "outputs": [],
   "source": [
    "import pandas as pd\n",
    "df = pd.read_csv('nombre_database_limpia.csv', delimiter=\";\")\n",
    "df.head(3)"
   ]
  }
 ],
 "metadata": {
  "language_info": {
   "name": "python"
  }
 },
 "nbformat": 4,
 "nbformat_minor": 5
}
